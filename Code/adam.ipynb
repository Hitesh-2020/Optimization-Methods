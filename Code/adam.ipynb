{
 "cells": [
  {
   "cell_type": "code",
   "execution_count": 1,
   "id": "0570154d",
   "metadata": {},
   "outputs": [],
   "source": [
    "import pandas as pd\n",
    "import numpy as np\n",
    "import matplotlib.pyplot as plt"
   ]
  },
  {
   "cell_type": "code",
   "execution_count": 50,
   "id": "cedfa72b",
   "metadata": {},
   "outputs": [
    {
     "data": {
      "text/html": [
       "<div>\n",
       "<style scoped>\n",
       "    .dataframe tbody tr th:only-of-type {\n",
       "        vertical-align: middle;\n",
       "    }\n",
       "\n",
       "    .dataframe tbody tr th {\n",
       "        vertical-align: top;\n",
       "    }\n",
       "\n",
       "    .dataframe thead th {\n",
       "        text-align: right;\n",
       "    }\n",
       "</style>\n",
       "<table border=\"1\" class=\"dataframe\">\n",
       "  <thead>\n",
       "    <tr style=\"text-align: right;\">\n",
       "      <th></th>\n",
       "      <th>Unnamed: 0</th>\n",
       "      <th>TV</th>\n",
       "      <th>radio</th>\n",
       "      <th>newspaper</th>\n",
       "      <th>sales</th>\n",
       "    </tr>\n",
       "  </thead>\n",
       "  <tbody>\n",
       "    <tr>\n",
       "      <th>0</th>\n",
       "      <td>1</td>\n",
       "      <td>230.1</td>\n",
       "      <td>37.8</td>\n",
       "      <td>69.2</td>\n",
       "      <td>22.1</td>\n",
       "    </tr>\n",
       "    <tr>\n",
       "      <th>1</th>\n",
       "      <td>2</td>\n",
       "      <td>44.5</td>\n",
       "      <td>39.3</td>\n",
       "      <td>45.1</td>\n",
       "      <td>10.4</td>\n",
       "    </tr>\n",
       "    <tr>\n",
       "      <th>2</th>\n",
       "      <td>3</td>\n",
       "      <td>17.2</td>\n",
       "      <td>45.9</td>\n",
       "      <td>69.3</td>\n",
       "      <td>9.3</td>\n",
       "    </tr>\n",
       "    <tr>\n",
       "      <th>3</th>\n",
       "      <td>4</td>\n",
       "      <td>151.5</td>\n",
       "      <td>41.3</td>\n",
       "      <td>58.5</td>\n",
       "      <td>18.5</td>\n",
       "    </tr>\n",
       "    <tr>\n",
       "      <th>4</th>\n",
       "      <td>5</td>\n",
       "      <td>180.8</td>\n",
       "      <td>10.8</td>\n",
       "      <td>58.4</td>\n",
       "      <td>12.9</td>\n",
       "    </tr>\n",
       "  </tbody>\n",
       "</table>\n",
       "</div>"
      ],
      "text/plain": [
       "   Unnamed: 0     TV  radio  newspaper  sales\n",
       "0           1  230.1   37.8       69.2   22.1\n",
       "1           2   44.5   39.3       45.1   10.4\n",
       "2           3   17.2   45.9       69.3    9.3\n",
       "3           4  151.5   41.3       58.5   18.5\n",
       "4           5  180.8   10.8       58.4   12.9"
      ]
     },
     "execution_count": 50,
     "metadata": {},
     "output_type": "execute_result"
    }
   ],
   "source": [
    "data = pd.read_csv(\"Advertising.csv\")\n",
    "x = data[\"TV\"]\n",
    "y = data[\"sales\"]\n",
    "data.head()"
   ]
  },
  {
   "cell_type": "code",
   "execution_count": 51,
   "id": "22f32f5f",
   "metadata": {},
   "outputs": [],
   "source": [
    "def linearEq(x,param):\n",
    "    return param[0]*x+param[1]\n",
    "\n",
    "def linearCost(x,y,param):\n",
    "    yHat = linearEq(x,param)\n",
    "    n = len(y)\n",
    "    return (1/n)*sum((y-yHat)**2)\n",
    "\n",
    "def linearGradient(x,y,param):\n",
    "    yHat = linearEq(x,param)\n",
    "    n = len(y)\n",
    "    return np.array([(-2/n)*np.dot(x,(y-yHat)), (-2/n)*sum(y-yHat)])"
   ]
  },
  {
   "cell_type": "code",
   "execution_count": 81,
   "id": "150d9a61",
   "metadata": {},
   "outputs": [],
   "source": [
    "def adam(x,y,param, gradFunc, costFunc, iterations=1000, alpha=0.01, beta1=0.8, beta2=0.999):\n",
    "    ets = 1e-8\n",
    "    m = np.array([0.0 for _ in range(len(param))])\n",
    "    v = np.array([0.0 for _ in range(len(param))])\n",
    "    costVal = []\n",
    "    \n",
    "    for t in range(iterations):\n",
    "        costVal.append(costFunc(x,y,param))\n",
    "        \n",
    "        gradVal = gradFunc(x,y,param)\n",
    "\n",
    "        m = beta1*m + (1.0-beta1)*gradVal\n",
    "        v = beta2*v + (1.0-beta2)*(gradVal)**2\n",
    "\n",
    "        mhat = m / (1.0-beta1**(t+1))\n",
    "        vhat = v / (1.0-beta2**(t+1))\n",
    "        \n",
    "        stepSize = (alpha * mhat) / np.sqrt(vhat+ets)\n",
    "        \n",
    "        param = param - stepSize\n",
    "    \n",
    "    return param, costVal"
   ]
  },
  {
   "cell_type": "code",
   "execution_count": 82,
   "id": "4e78ddfb",
   "metadata": {},
   "outputs": [],
   "source": [
    "#beta values varies from 0.8 to 0.999"
   ]
  },
  {
   "cell_type": "code",
   "execution_count": 97,
   "id": "0b3df6a6",
   "metadata": {},
   "outputs": [
    {
     "data": {
      "text/plain": [
       "array([0.08260142, 0.11126785])"
      ]
     },
     "execution_count": 97,
     "metadata": {},
     "output_type": "execute_result"
    },
    {
     "data": {
      "image/png": "[encoded data removed]",
      "text/plain": [
       "<Figure size 432x288 with 1 Axes>"
      ]
     },
     "metadata": {
      "needs_background": "light"
     },
     "output_type": "display_data"
    }
   ],
   "source": [
    "param = np.array([0.0,0.0])\n",
    "\n",
    "plt.scatter(x,y)\n",
    "plt.plot(x, linearEq(x,param),\"red\")\n",
    "\n",
    "param, costVal = adam(x, y, param, linearGradient, linearCost, 200, 0.001, 0.9, 0.999)\n",
    "\n",
    "param"
   ]
  },
  {
   "cell_type": "code",
   "execution_count": 98,
   "id": "b99300bd",
   "metadata": {},
   "outputs": [
    {
     "data": {
      "text/plain": [
       "[<matplotlib.lines.Line2D at 0x1cc54b4cfd0>]"
      ]
     },
     "execution_count": 98,
     "metadata": {},
     "output_type": "execute_result"
    },
    {
     "data": {
      "image/png": "[encoded data removed]",
      "text/plain": [
       "<Figure size 432x288 with 1 Axes>"
      ]
     },
     "metadata": {
      "needs_background": "light"
     },
     "output_type": "display_data"
    }
   ],
   "source": [
    "plt.scatter(x,y)\n",
    "plt.plot(x, linearEq(x,param),\"red\")"
   ]
  },
  {
   "cell_type": "code",
   "execution_count": 99,
   "id": "41961661",
   "metadata": {},
   "outputs": [
    {
     "name": "stdout",
     "output_type": "stream",
     "text": [
      "200\n"
     ]
    },
    {
     "data": {
      "text/plain": [
       "[<matplotlib.lines.Line2D at 0x1cc51bd2f70>]"
      ]
     },
     "execution_count": 99,
     "metadata": {},
     "output_type": "execute_result"
    },
    {
     "data": {
      "image/png": "[encoded data removed]",
      "text/plain": [
       "<Figure size 432x288 with 1 Axes>"
      ]
     },
     "metadata": {
      "needs_background": "light"
     },
     "output_type": "display_data"
    }
   ],
   "source": [
    "print(len(costVal))\n",
    "plt.plot(range(len(costVal)),costVal,\"red\")"
   ]
  },
  {
   "cell_type": "code",
   "execution_count": null,
   "id": "35b49f38",
   "metadata": {},
   "outputs": [],
   "source": []
  },
  {
   "cell_type": "code",
   "execution_count": null,
   "id": "6b25fda9",
   "metadata": {},
   "outputs": [],
   "source": []
  },
  {
   "cell_type": "code",
   "execution_count": null,
   "id": "8813dccd",
   "metadata": {},
   "outputs": [],
   "source": []
  }
 ],
 "metadata": {
  "kernelspec": {
   "display_name": "Python 3 (ipykernel)",
   "language": "python",
   "name": "python3"
  },
  "language_info": {
   "codemirror_mode": {
    "name": "ipython",
    "version": 3
   },
   "file_extension": ".py",
   "mimetype": "text/x-python",
   "name": "python",
   "nbconvert_exporter": "python",
   "pygments_lexer": "ipython3",
   "version": "3.9.8"
  }
 },
 "nbformat": 4,
 "nbformat_minor": 5
}
